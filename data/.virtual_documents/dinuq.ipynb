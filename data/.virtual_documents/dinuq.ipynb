import dinuq
import csv
from Bio import SeqIO


def remove_stop_codons(sequence):
    codons = [sequence[i:i+3] for i in range(0, len(sequence), 3)]
    filtered_codons = [codon for codon in codons if codon.upper() not in {'TAA', 'TAG', 'TGA'}]
    return ''.join(filtered_codons)

def process_fasta(input_file, output_file):
    with open(input_file, 'r') as infile, open(output_file, 'w') as outfile:
        for record in SeqIO.parse(infile, 'fasta'):
            # Check if sequence length is a multiple of 3
            if len(record.seq) % 3 == 0:
                # Remove stop codons from each sequence
                filtered_sequence = remove_stop_codons(str(record.seq))
                
                # Write the modified sequence to the output file
                outfile.write(f'>{record.id}\n{filtered_sequence}\n')

def write_nt_tsv(nt_dict, outfile):
    # Write the dictionary to a TSV file
    with open(outfile, 'w', newline='') as tsvfile:
        writer = csv.writer(tsvfile, delimiter='\t')
    
        # Write header
        header = ["acc"] + list(list(nt_dict.values())[0].keys())
        writer.writerow(header)
    
        # Write data
        for key, values in nt_dict.items():
            row = [key] + list(values.values())
            writer.writerow(row)
    
    print(f"Data written to {outfile}")



alldns = ['CpC', 'CpG', 'CpU', 'CpA', 'GpC', 'GpG', 'GpU', 'GpA', 'UpC', 'UpG', 'UpU', 'UpA', 'ApC', 'ApG', 'ApU', 'ApA']





# Specify input and output file paths
input_file_path = 'dinuq/rhabdo/OVRV1_cdsUnpaired.fasta'
output_file_path = 'dinuq/rhabdo/OVRV1_no_stop.fasta'

# Process the FASTA file and remove stop codons
process_fasta(input_file_path, output_file_path)


OVRV1_sdu=dinuq.SDUc("dinuq/rhabdo/OVRV1_no_stop.fasta", alldns)


process_fasta("dinuq/rhabdo/blackfly_rhabdo.fasta", "dinuq/rhabdo/blackfly_rhabdo_no_stop.fasta")
blackfly_sdu=dinuq.SDUc("dinuq/rhabdo/blackfly_rhabdo_no_stop.fasta", alldns)


process_fasta("dinuq/rhabdo/rhabdo_refseq_cds_concat.fasta", "dinuq/rhabdo/rhabdo_refseq_cds_no_stop.fasta")
refseq_sdu=dinuq.SDUc("dinuq/rhabdo/rhabdo_refseq_cds_no_stop.fasta", alldns)


sdu={**refseq_sdu, **OVRV1_sdu, **blackfly_sdu}


dinuq.dict_to_tsv(sdu, "dinuq/rhabdo/dinuq_rhabdo_cds_sdu.tsv")


refseq_nt=dinuq.ntcont("dinuq/rhabdo/rhabdo_refseq_cds_no_stop.fasta")
OVRV1_nt=dinuq.ntcont("dinuq/rhabdo/OVRV1_no_stop.fasta")
blackfly_nt=dinuq.ntcont("dinuq/rhabdo/blackfly_rhabdo_no_stop.fasta")


nt={**refseq_nt, **OVRV1_nt, **blackfly_nt}


# Specify the output TSV file path
output_file_path = "dinuq/rhabdo/rhabdo_refseq_ntcont.tsv"
write_nt_tsv(nt, output_file_path)





process_fasta("dinuq/flavi/flavi_cds.fasta", "dinuq/flavi/flavi_cds_no_stop.fasta")
flavi_sdu=dinuq.SDUc("dinuq/flavi/flavi_cds_no_stop.fasta", alldns)


blackfly_sdu=dinuq.SDUc("dinuq/flavi/blackfly_flavi.fasta", alldns)


sdu={**flavi_sdu, **blackfly_sdu}


dinuq.dict_to_tsv(sdu, "dinuq/flavi/dinuq_flavi_cds_sdu.tsv")


nt_gb=dinuq.ntcont("dinuq/flavi/flavi_cds_no_stop.fasta")
nt_blackfly=dinuq.ntcont("dinuq/flavi/blackfly_flavi.fasta")
nt={**nt_gb, **nt_blackfly}


# Specify the output TSV file path
output_file_path = "dinuq/flavi/flavi_ntcont.tsv"
write_nt_tsv(nt, output_file_path)



