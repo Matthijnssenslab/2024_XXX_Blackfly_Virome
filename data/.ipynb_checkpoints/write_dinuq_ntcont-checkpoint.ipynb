{
 "cells": [
  {
   "cell_type": "code",
   "execution_count": 1,
   "id": "49a6375c-17c0-470c-9935-4125664295ec",
   "metadata": {},
   "outputs": [],
   "source": [
    "import dinuq\n",
    "import csv"
   ]
  },
  {
   "cell_type": "code",
   "execution_count": 2,
   "id": "2fbbcee7-e4b9-49e2-ad0e-e6559be677a5",
   "metadata": {},
   "outputs": [],
   "source": [
    "nt=dinuq.ntcont(\"rhabdo_refseq_cds.fasta\")"
   ]
  },
  {
   "cell_type": "code",
   "execution_count": 13,
   "id": "86b9bdac-df53-4541-afe6-1c2e996ea003",
   "metadata": {},
   "outputs": [
    {
     "data": {
      "text/plain": [
       "['Position', 'G', 'C', 'A', 'T']"
      ]
     },
     "execution_count": 13,
     "metadata": {},
     "output_type": "execute_result"
    }
   ],
   "source": [
    "[\"Position\"] + list(list(nt.values())[0].keys())"
   ]
  },
  {
   "cell_type": "code",
   "execution_count": 15,
   "id": "1dcc6f32-ff8e-4d4e-a4d1-ffb0696bc91f",
   "metadata": {},
   "outputs": [
    {
     "name": "stdout",
     "output_type": "stream",
     "text": [
      "Data written to rhabdo_refseq_ntcont.tsv\n"
     ]
    }
   ],
   "source": [
    "# Specify the output TSV file path\n",
    "output_file_path = \"rhabdo_refseq_ntcont.tsv\"\n",
    "\n",
    "# Write the dictionary to a TSV file\n",
    "with open(output_file_path, 'w', newline='') as tsvfile:\n",
    "    writer = csv.writer(tsvfile, delimiter='\\t')\n",
    "\n",
    "    # Write header\n",
    "    header = [\"acc\"] + list(list(nt.values())[0].keys())\n",
    "    writer.writerow(header)\n",
    "\n",
    "    # Write data\n",
    "    for key, values in nt.items():\n",
    "        row = [key] + list(values.values())\n",
    "        writer.writerow(row)\n",
    "\n",
    "print(f\"Data written to {output_file_path}\")\n"
   ]
  },
  {
   "cell_type": "code",
   "execution_count": null,
   "id": "f908fbf5-0d09-482c-8ae2-a563cc8bd1ff",
   "metadata": {},
   "outputs": [],
   "source": []
  }
 ],
 "metadata": {
  "kernelspec": {
   "display_name": "conda",
   "language": "python",
   "name": "conda"
  },
  "language_info": {
   "codemirror_mode": {
    "name": "ipython",
    "version": 3
   },
   "file_extension": ".py",
   "mimetype": "text/x-python",
   "name": "python",
   "nbconvert_exporter": "python",
   "pygments_lexer": "ipython3",
   "version": "3.10.12"
  }
 },
 "nbformat": 4,
 "nbformat_minor": 5
}
